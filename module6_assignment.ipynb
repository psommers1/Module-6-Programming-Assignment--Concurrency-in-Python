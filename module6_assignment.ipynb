{
 "cells": [
  {
   "cell_type": "markdown",
   "metadata": {},
   "source": [
    "# Module 6 Programming Assignment - Concurrency in Python\n",
    "\n",
    "This notebook contains solutions for the programming problems related to file handling, date parsing, and multiprocessing."
   ]
  },
  {
   "cell_type": "markdown",
   "metadata": {},
   "source": [
    "## Problem 13.1: Write the current date as a string to the text file today.txt"
   ]
  },
  {
   "cell_type": "code",
   "execution_count": 1,
   "metadata": {},
   "outputs": [
    {
     "name": "stdout",
     "output_type": "stream",
     "text": [
      "Current date: 2025-04-27\n",
      "Date written to today.txt\n"
     ]
    }
   ],
   "source": [
    "from datetime import datetime\n",
    "\n",
    "# Get the current date as a string\n",
    "current_date = datetime.now().strftime(\"%Y-%m-%d\")\n",
    "print(f\"Current date: {current_date}\")\n",
    "\n",
    "# Write the date to today.txt\n",
    "with open('today.txt', 'w') as file:\n",
    "    file.write(current_date)\n",
    "    \n",
    "print(\"Date written to today.txt\")"
   ]
  },
  {
   "cell_type": "markdown",
   "metadata": {},
   "source": [
    "## Problem 13.2: Read the text file today.txt into the string today_string"
   ]
  },
  {
   "cell_type": "code",
   "execution_count": 2,
   "metadata": {},
   "outputs": [
    {
     "name": "stdout",
     "output_type": "stream",
     "text": [
      "Contents of today.txt: 2025-04-27\n"
     ]
    }
   ],
   "source": [
    "# Read the contents of today.txt into today_string\n",
    "with open('today.txt', 'r') as file:\n",
    "    today_string = file.read()\n",
    "    \n",
    "print(f\"Contents of today.txt: {today_string}\")"
   ]
  },
  {
   "cell_type": "markdown",
   "metadata": {},
   "source": [
    "## Problem 13.3: Parse the date from today_string"
   ]
  },
  {
   "cell_type": "code",
   "execution_count": 3,
   "metadata": {},
   "outputs": [
    {
     "name": "stdout",
     "output_type": "stream",
     "text": [
      "Parsed date: 2025-04-27 00:00:00\n",
      "Year: 2025\n",
      "Month: 4\n",
      "Day: 27\n"
     ]
    }
   ],
   "source": [
    "from datetime import datetime\n",
    "\n",
    "# Parse the date from today_string\n",
    "parsed_date = datetime.strptime(today_string, \"%Y-%m-%d\")\n",
    "\n",
    "print(f\"Parsed date: {parsed_date}\")\n",
    "print(f\"Year: {parsed_date.year}\")\n",
    "print(f\"Month: {parsed_date.month}\")\n",
    "print(f\"Day: {parsed_date.day}\")"
   ]
  },
  {
   "cell_type": "markdown",
   "metadata": {},
   "source": [
    "## Problem 15.1: Use multiprocessing to create three separate processes"
   ]
  },
  {
   "cell_type": "code",
   "execution_count": 4,
   "metadata": {},
   "outputs": [
    {
     "name": "stdout",
     "output_type": "stream",
     "text": [
      "Started process Worker-1 with PID: 6424\n",
      "Started process Worker-2 with PID: 30052\n",
      "Started process Worker-3 with PID: 6120\n",
      "All processes have completed.\n"
     ]
    }
   ],
   "source": [
    "import multiprocessing\n",
    "import random\n",
    "import time\n",
    "from datetime import datetime\n",
    "\n",
    "def worker_process():\n",
    "    # Wait a random number of seconds between 0 and 1\n",
    "    wait_time = random.random()\n",
    "    time.sleep(wait_time)\n",
    "    \n",
    "    # Print the current time\n",
    "    current_time = datetime.now().strftime(\"%H:%M:%S.%f\")\n",
    "    print(f\"Process {multiprocessing.current_process().name} - Current time: {current_time} (waited {wait_time:.4f} seconds)\")\n",
    "\n",
    "if __name__ == \"__main__\":\n",
    "    # Create three separate processes\n",
    "    processes = []\n",
    "    \n",
    "    for i in range(3):\n",
    "        process = multiprocessing.Process(target=worker_process, name=f\"Worker-{i+1}\")\n",
    "        processes.append(process)\n",
    "        process.start()\n",
    "        print(f\"Started process {process.name} with PID: {process.pid}\")\n",
    "    \n",
    "    # Wait for all processes to complete\n",
    "    for process in processes:\n",
    "        process.join()\n",
    "    \n",
    "    print(\"All processes have completed.\")"
   ]
  }
 ],
 "metadata": {
  "kernelspec": {
   "display_name": "Python 3",
   "language": "python",
   "name": "python3"
  },
  "language_info": {
   "codemirror_mode": {
    "name": "ipython",
    "version": 3
   },
   "file_extension": ".py",
   "mimetype": "text/x-python",
   "name": "python",
   "nbconvert_exporter": "python",
   "pygments_lexer": "ipython3",
   "version": "3.11.9"
  }
 },
 "nbformat": 4,
 "nbformat_minor": 4
}
